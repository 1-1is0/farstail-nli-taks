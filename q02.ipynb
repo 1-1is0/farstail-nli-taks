{
 "cells": [
  {
   "cell_type": "code",
   "execution_count": 120,
   "metadata": {},
   "outputs": [
    {
     "name": "stdout",
     "output_type": "stream",
     "text": [
      "cuda:0\n"
     ]
    }
   ],
   "source": [
    "import os\n",
    "import pandas as pd\n",
    "import random\n",
    "from tqdm import tqdm\n",
    "import matplotlib.pyplot as plt\n",
    "import numpy as np\n",
    "import torch\n",
    "from torch.functional import F\n",
    "from torch import nn\n",
    "from sklearn.preprocessing import LabelEncoder\n",
    "from sklearn.model_selection import train_test_split\n",
    "from transformers import AutoConfig, AutoTokenizer, AutoModel\n",
    "\n",
    "seed = 10\n",
    "random.seed(10)\n",
    "np.random.seed(10)\n",
    "torch.manual_seed(seed)\n",
    "torch.backends.cudnn.benchmark = True\n",
    "\n",
    "device = torch.device(\"cuda:0\" if torch.cuda.is_available() else \"cpu\")\n",
    "# device = torch.device(\"cpu\")\n",
    "print(device)"
   ]
  },
  {
   "cell_type": "code",
   "execution_count": 33,
   "metadata": {},
   "outputs": [],
   "source": [
    "if os.environ.get('KAGGLE_KERNEL_RUN_TYPE',''):\n",
    "    print(os.environ.get('KAGGLE_KERNEL_RUN_TYPE',''))\n",
    "    kaggle = True"
   ]
  },
  {
   "cell_type": "code",
   "execution_count": 34,
   "metadata": {},
   "outputs": [
    {
     "name": "stdout",
     "output_type": "stream",
     "text": [
      "Cloning into 'farstail-nli-task'...\n",
      "remote: Enumerating objects: 20, done.\u001b[K\n",
      "remote: Counting objects: 100% (20/20), done.\u001b[K\n",
      "remote: Compressing objects: 100% (18/18), done.\u001b[K\n",
      "remote: Total 20 (delta 4), reused 18 (delta 2), pack-reused 0\u001b[K\n",
      "Receiving objects: 100% (20/20), 409.95 KiB | 969.00 KiB/s, done.\n",
      "Resolving deltas: 100% (4/4), done.\n"
     ]
    }
   ],
   "source": [
    "!if [[ -z \"${KAGGLE_KERNEL_RUN_TYPE}\" ]]; then git clone https://github.com/1-1is0/farstail-nli-task; cp farstail-nli-task/*.py . ; fi"
   ]
  },
  {
   "cell_type": "code",
   "execution_count": 2,
   "metadata": {},
   "outputs": [],
   "source": [
    "%load_ext autoreload\n",
    "%autoreload 2"
   ]
  },
  {
   "cell_type": "code",
   "execution_count": 3,
   "metadata": {},
   "outputs": [],
   "source": [
    "from IPython import display\n",
    "def rtl_print(outputs, font_size=\"15px\", n_to_br=False):\n",
    "    outputs = outputs if isinstance(outputs, list) else [outputs] \n",
    "    if n_to_br:\n",
    "        outputs = [output.replace('\\n', '') for output in outputs]\n",
    "        \n",
    "    outputs = [f'{output}' for output in outputs]\n",
    "    display.display(display.HTML(' '.join(outputs)))\n"
   ]
  },
  {
   "cell_type": "code",
   "execution_count": 4,
   "metadata": {},
   "outputs": [
    {
     "data": {
      "text/html": [
       "<div>\n",
       "<style scoped>\n",
       "    .dataframe tbody tr th:only-of-type {\n",
       "        vertical-align: middle;\n",
       "    }\n",
       "\n",
       "    .dataframe tbody tr th {\n",
       "        vertical-align: top;\n",
       "    }\n",
       "\n",
       "    .dataframe thead th {\n",
       "        text-align: right;\n",
       "    }\n",
       "</style>\n",
       "<table border=\"1\" class=\"dataframe\">\n",
       "  <thead>\n",
       "    <tr style=\"text-align: right;\">\n",
       "      <th></th>\n",
       "      <th>text</th>\n",
       "      <th>polarity</th>\n",
       "    </tr>\n",
       "  </thead>\n",
       "  <tbody>\n",
       "    <tr>\n",
       "      <th>0</th>\n",
       "      <td>اینک قصد داریم پرینتر دیگری از پرینترهای لیزری...</td>\n",
       "      <td>neutral</td>\n",
       "    </tr>\n",
       "    <tr>\n",
       "      <th>1</th>\n",
       "      <td>پرینتری چند کاره از رده‌ی Entry Level یا سطح م...</td>\n",
       "      <td>neutral</td>\n",
       "    </tr>\n",
       "    <tr>\n",
       "      <th>2</th>\n",
       "      <td>به هر صورت اکنون ما در دنیایی زندگی می‌کنیم،  ...</td>\n",
       "      <td>neutral</td>\n",
       "    </tr>\n",
       "    <tr>\n",
       "      <th>3</th>\n",
       "      <td>به صورتی که توانایی کپی کردن،  اسکن،  فکس،  پر...</td>\n",
       "      <td>neutral</td>\n",
       "    </tr>\n",
       "    <tr>\n",
       "      <th>4</th>\n",
       "      <td>به هر صورت معمولا چیزی که بیشتر کاربران از پری...</td>\n",
       "      <td>very good</td>\n",
       "    </tr>\n",
       "  </tbody>\n",
       "</table>\n",
       "</div>"
      ],
      "text/plain": [
       "                                                text   polarity\n",
       "0  اینک قصد داریم پرینتر دیگری از پرینترهای لیزری...    neutral\n",
       "1  پرینتری چند کاره از رده‌ی Entry Level یا سطح م...    neutral\n",
       "2  به هر صورت اکنون ما در دنیایی زندگی می‌کنیم،  ...    neutral\n",
       "3  به صورتی که توانایی کپی کردن،  اسکن،  فکس،  پر...    neutral\n",
       "4  به هر صورت معمولا چیزی که بیشتر کاربران از پری...  very good"
      ]
     },
     "execution_count": 4,
     "metadata": {},
     "output_type": "execute_result"
    }
   ],
   "source": [
    "df = pd.read_excel('./data/datasets/sentipers.xlsx', sheet_name=0)\n",
    "df.head()"
   ]
  },
  {
   "cell_type": "code",
   "execution_count": 6,
   "metadata": {},
   "outputs": [],
   "source": [
    "label_encoder = LabelEncoder()\n",
    "df['polarity_id'] = label_encoder.fit_transform(df['polarity'])"
   ]
  },
  {
   "cell_type": "code",
   "execution_count": 7,
   "metadata": {},
   "outputs": [
    {
     "data": {
      "text/html": [
       "<div>\n",
       "<style scoped>\n",
       "    .dataframe tbody tr th:only-of-type {\n",
       "        vertical-align: middle;\n",
       "    }\n",
       "\n",
       "    .dataframe tbody tr th {\n",
       "        vertical-align: top;\n",
       "    }\n",
       "\n",
       "    .dataframe thead th {\n",
       "        text-align: right;\n",
       "    }\n",
       "</style>\n",
       "<table border=\"1\" class=\"dataframe\">\n",
       "  <thead>\n",
       "    <tr style=\"text-align: right;\">\n",
       "      <th></th>\n",
       "      <th>text</th>\n",
       "      <th>polarity</th>\n",
       "      <th>polarity_id</th>\n",
       "    </tr>\n",
       "  </thead>\n",
       "  <tbody>\n",
       "    <tr>\n",
       "      <th>9209</th>\n",
       "      <td>این دوربین توانایی ضبط ویدیویی 72neutralp HD د...</td>\n",
       "      <td>very good</td>\n",
       "      <td>4</td>\n",
       "    </tr>\n",
       "    <tr>\n",
       "      <th>6833</th>\n",
       "      <td>با وزن تنها 27neutral گرم نیز یکی از سبک وزن ت...</td>\n",
       "      <td>very good</td>\n",
       "      <td>4</td>\n",
       "    </tr>\n",
       "    <tr>\n",
       "      <th>15516</th>\n",
       "      <td>ایسوس اعلام کرده است که در ساخت این تبلت از شی...</td>\n",
       "      <td>neutral</td>\n",
       "      <td>2</td>\n",
       "    </tr>\n",
       "    <tr>\n",
       "      <th>6989</th>\n",
       "      <td>این قلم نه از نظر ظاهری و نه از لحاظ کارایی، ش...</td>\n",
       "      <td>bad</td>\n",
       "      <td>0</td>\n",
       "    </tr>\n",
       "    <tr>\n",
       "      <th>6420</th>\n",
       "      <td>به طور مثال شما می‌توانید تعیین نمایید که در ح...</td>\n",
       "      <td>neutral</td>\n",
       "      <td>2</td>\n",
       "    </tr>\n",
       "  </tbody>\n",
       "</table>\n",
       "</div>"
      ],
      "text/plain": [
       "                                                    text   polarity   \n",
       "9209   این دوربین توانایی ضبط ویدیویی 72neutralp HD د...  very good  \\\n",
       "6833   با وزن تنها 27neutral گرم نیز یکی از سبک وزن ت...  very good   \n",
       "15516  ایسوس اعلام کرده است که در ساخت این تبلت از شی...    neutral   \n",
       "6989   این قلم نه از نظر ظاهری و نه از لحاظ کارایی، ش...        bad   \n",
       "6420   به طور مثال شما می‌توانید تعیین نمایید که در ح...    neutral   \n",
       "\n",
       "       polarity_id  \n",
       "9209             4  \n",
       "6833             4  \n",
       "15516            2  \n",
       "6989             0  \n",
       "6420             2  "
      ]
     },
     "execution_count": 7,
     "metadata": {},
     "output_type": "execute_result"
    }
   ],
   "source": [
    "df.head()"
   ]
  },
  {
   "cell_type": "code",
   "execution_count": 8,
   "metadata": {},
   "outputs": [],
   "source": [
    "train_df, test_df = train_test_split(df, test_size=0.2, random_state=seed)\n",
    "val_df, test_df =  train_test_split(test_df, test_size=0.5, random_state=seed)"
   ]
  },
  {
   "cell_type": "code",
   "execution_count": 9,
   "metadata": {},
   "outputs": [],
   "source": [
    "text = df.iloc[0][\"text\"]"
   ]
  },
  {
   "cell_type": "code",
   "execution_count": 10,
   "metadata": {},
   "outputs": [],
   "source": [
    "class Dataset(torch.utils.data.Dataset):\n",
    "    def __init__(self, df, tokenizer):\n",
    "        self.df = df\n",
    "        self.tokenizer = tokenizer\n",
    "        self.max_length = 50\n",
    "\n",
    "    def __len__(self):\n",
    "        return len(self.df)\n",
    "\n",
    "    def __getitem__(self, idx):\n",
    "        row = self.df.iloc[idx]\n",
    "        text = row[\"text\"]\n",
    "        polarity = row[\"polarity\"]\n",
    "        polarity_id = row[\"polarity_id\"]\n",
    "        # Tokenize inputs\n",
    "        encoded_inputs = self.tokenizer.encode_plus(\n",
    "            text,\n",
    "            truncation=True,\n",
    "            padding=\"max_length\",\n",
    "            max_length=self.max_length,\n",
    "            return_tensors=\"pt\",\n",
    "        )\n",
    "        input_ids = encoded_inputs[\"input_ids\"].squeeze()\n",
    "        attention_mask = encoded_inputs[\"attention_mask\"].squeeze()\n",
    "        token_type_id = encoded_inputs[\"token_type_ids\"].squeeze()\n",
    "        return {\n",
    "            \"input_ids\": input_ids,\n",
    "            \"attention_mask\": attention_mask,\n",
    "            \"token_type_ids\": token_type_id,\n",
    "            \"label\": polarity,\n",
    "            \"label_id\": torch.tensor(polarity_id, dtype=torch.long),\n",
    "        }"
   ]
  },
  {
   "cell_type": "code",
   "execution_count": 11,
   "metadata": {},
   "outputs": [],
   "source": [
    "from multiprocessing import cpu_count\n",
    "\n",
    "tokenizer = AutoTokenizer.from_pretrained(\"sentence-transformers/labse\")\n",
    "train_dataset = Dataset(train_df, tokenizer)\n",
    "val_dataset = Dataset(val_df, tokenizer)\n",
    "test_dataset = Dataset(test_df, tokenizer)\n",
    "\n",
    "\n",
    "batch_size = 32\n",
    "num_workers = cpu_count() - 2\n",
    "pin_memory = True if device == \"cuda\" else False\n",
    "train_loader = torch.utils.data.DataLoader(\n",
    "    train_dataset,\n",
    "    batch_size=batch_size,\n",
    "    shuffle=True,\n",
    "    drop_last=True,\n",
    "    num_workers=num_workers,\n",
    "    pin_memory=pin_memory,\n",
    ")\n",
    "val_loader = torch.utils.data.DataLoader(\n",
    "    val_dataset,\n",
    "    batch_size=batch_size,\n",
    "    shuffle=False,\n",
    "    drop_last=False,\n",
    "    num_workers=num_workers,\n",
    "    pin_memory=pin_memory,\n",
    ")\n",
    "test_loader = torch.utils.data.DataLoader(\n",
    "    test_dataset,\n",
    "    batch_size=batch_size,\n",
    "    shuffle=False,\n",
    "    drop_last=False,\n",
    "    num_workers=num_workers,\n",
    "    pin_memory=pin_memory,\n",
    ")"
   ]
  },
  {
   "cell_type": "code",
   "execution_count": 12,
   "metadata": {},
   "outputs": [],
   "source": [
    "config = AutoConfig.from_pretrained(\"sentence-transformers/labse\")\n",
    "model = AutoModel.from_pretrained(\"sentence-transformers/LaBSE\")"
   ]
  },
  {
   "cell_type": "code",
   "execution_count": 13,
   "metadata": {},
   "outputs": [],
   "source": [
    "class LaBSEModel(nn.Module):\n",
    "    \"\"\"Performs prediction, given the input of BERT embeddings.\"\"\"\n",
    "\n",
    "    def __init__(\n",
    "        self,\n",
    "        label_num=3,\n",
    "        reinit_num=0,\n",
    "        freeze_layers=True,\n",
    "    ):\n",
    "        super(LaBSEModel, self).__init__()\n",
    "        # self.bert = BertModel.from_pretrained('bert-base-uncased')\n",
    "        # self.tokenizer = BertTokenizer.from_pretrained('bert-base-uncased')\n",
    "\n",
    "        self.config = AutoConfig.from_pretrained(\"sentence-transformers/LaBSE\")\n",
    "        # self.tokenizer = AutoTokenizer.from_pretrained(\n",
    "        #     \"sentence-transformers/LaBSE\"\n",
    "        # )\n",
    "        self.model = AutoModel.from_pretrained(\"sentence-transformers/LaBSE\")\n",
    "\n",
    "        self.num_hidden_layers = self.config.num_hidden_layers\n",
    "        self.vdim = self.config.hidden_size\n",
    "\n",
    "        self.batch_norm = nn.BatchNorm1d(self.vdim)\n",
    "        self.nli_head1 = nn.Linear(self.vdim, 500)\n",
    "        self.nli_head2 = nn.Linear(500, 250)\n",
    "        self.nli_head3 = nn.Linear(250, label_num)\n",
    "        self.sm = nn.Softmax(dim=1)\n",
    "        self.reinit(layer_num=reinit_num, freeze=freeze_layers)\n",
    "\n",
    "\n",
    "    def reinit(self, layer_num, freeze):\n",
    "        \"\"\"Reinitialise parameters of last N layers and freeze all others\"\"\"\n",
    "        if freeze:\n",
    "            for _, pp in self.model.named_parameters():\n",
    "                pp.requires_grad = False\n",
    "\n",
    "        # if layer_num >= 0:\n",
    "        #     layer_idx = [self.num_hidden_layers - 1 - i for i in range(layer_num)]\n",
    "        #     layer_names = [\"encoder.layer.{}\".format(j) for j in layer_idx]\n",
    "        #     for pn, pp in self.model.named_parameters():\n",
    "        #         if any([ln in pn for ln in layer_names]) or \"pooler.\" in pn:\n",
    "        #             pp.data = torch.randn(pp.shape) * 0.02\n",
    "        #             pp.requires_grad = True\n",
    "\n",
    "\n",
    "    def forward(self, input_ids, attention_mask, token_type_ids, checkpoint=False):\n",
    "        cls_vecs = self.model(\n",
    "            input_ids=input_ids,\n",
    "            attention_mask=attention_mask,\n",
    "            token_type_ids=token_type_ids,\n",
    "        )[1]\n",
    "\n",
    "        out = self.batch_norm(cls_vecs)\n",
    "        out = F.relu(self.nli_head1(out))\n",
    "        out = F.relu(self.nli_head2(out))\n",
    "        logits = self.nli_head3(out)\n",
    "        probs = self.sm(logits)\n",
    "\n",
    "        torch.cuda.empty_cache() # releases all unoccupied cached memory\n",
    "\n",
    "        return logits, probs"
   ]
  },
  {
   "cell_type": "code",
   "execution_count": 14,
   "metadata": {},
   "outputs": [],
   "source": [
    "model = LaBSEModel(label_num=len(label_encoder.classes_))\n",
    "model = model.to(device)\n",
    "criterion = nn.CrossEntropyLoss()\n",
    "optimizer = torch.optim.AdamW(model.parameters(),lr=1e-4,eps=1e-6)"
   ]
  },
  {
   "cell_type": "code",
   "execution_count": 15,
   "metadata": {},
   "outputs": [
    {
     "name": "stdout",
     "output_type": "stream",
     "text": [
      "model/state-LaBSEModel-optimizer-AdamW-loss-CrossEntropyLoss.pth exist\n"
     ]
    },
    {
     "name": "stderr",
     "output_type": "stream",
     "text": [
      "                                                                                  \r"
     ]
    },
    {
     "name": "stdout",
     "output_type": "stream",
     "text": [
      "[13s] Epoch 7 loss : 0.62597903 acc: 76.36 val: 1.02078240 acc: 56.69%\n"
     ]
    },
    {
     "name": "stderr",
     "output_type": "stream",
     "text": [
      "                                                                                  \r"
     ]
    },
    {
     "name": "stdout",
     "output_type": "stream",
     "text": [
      "[19s] Epoch 8 loss : 0.57098423 acc: 79.25 val: 1.02057861 acc: 57.32%\n"
     ]
    },
    {
     "name": "stderr",
     "output_type": "stream",
     "text": [
      "                                                                                  \r"
     ]
    },
    {
     "name": "stdout",
     "output_type": "stream",
     "text": [
      "[31s] Epoch 9 loss : 0.52561621 acc: 81.49 val: 1.04172334 acc: 57.32%\n"
     ]
    },
    {
     "name": "stderr",
     "output_type": "stream",
     "text": [
      "                                                                                   \r"
     ]
    },
    {
     "name": "stdout",
     "output_type": "stream",
     "text": [
      "[46s] Epoch 10 loss : 0.45831846 acc: 86.06 val: 1.04972755 acc: 56.69%\n"
     ]
    },
    {
     "name": "stderr",
     "output_type": "stream",
     "text": [
      "                                                                                   \r"
     ]
    },
    {
     "name": "stdout",
     "output_type": "stream",
     "text": [
      "[46s] Epoch 11 loss : 0.42505948 acc: 86.22 val: 1.07979587 acc: 56.05%\n"
     ]
    },
    {
     "name": "stderr",
     "output_type": "stream",
     "text": [
      "                                                                                   \r"
     ]
    },
    {
     "name": "stdout",
     "output_type": "stream",
     "text": [
      "[47s] Epoch 12 loss : 0.36931435 acc: 89.02 val: 1.11131119 acc: 56.05%\n"
     ]
    },
    {
     "name": "stderr",
     "output_type": "stream",
     "text": [
      "                                                                                   \r"
     ]
    },
    {
     "name": "stdout",
     "output_type": "stream",
     "text": [
      "[48s] Epoch 13 loss : 0.33573782 acc: 89.82 val: 1.14583682 acc: 54.78%\n"
     ]
    },
    {
     "name": "stderr",
     "output_type": "stream",
     "text": [
      "                                                                                   \r"
     ]
    },
    {
     "name": "stdout",
     "output_type": "stream",
     "text": [
      "[63s] Epoch 14 loss : 0.29223889 acc: 92.31 val: 1.18427210 acc: 55.41%\n"
     ]
    },
    {
     "name": "stderr",
     "output_type": "stream",
     "text": [
      "                                                                                   \r"
     ]
    },
    {
     "name": "stdout",
     "output_type": "stream",
     "text": [
      "[92s] Epoch 15 loss : 0.25109427 acc: 94.71 val: 1.21433620 acc: 54.78%\n"
     ]
    },
    {
     "name": "stderr",
     "output_type": "stream",
     "text": [
      "                                                                                   \r"
     ]
    },
    {
     "name": "stdout",
     "output_type": "stream",
     "text": [
      "[93s] Epoch 16 loss : 0.22019312 acc: 95.03 val: 1.22433755 acc: 54.78%\n"
     ]
    },
    {
     "name": "stderr",
     "output_type": "stream",
     "text": [
      "                                                                                   \r"
     ]
    },
    {
     "name": "stdout",
     "output_type": "stream",
     "text": [
      "[89s] Epoch 17 loss : 0.18589515 acc: 96.15 val: 1.29357467 acc: 54.78%\n"
     ]
    },
    {
     "name": "stderr",
     "output_type": "stream",
     "text": [
      "                                                                                   \r"
     ]
    },
    {
     "name": "stdout",
     "output_type": "stream",
     "text": [
      "[92s] Epoch 18 loss : 0.15252902 acc: 97.68 val: 1.32800040 acc: 55.41%\n"
     ]
    },
    {
     "name": "stderr",
     "output_type": "stream",
     "text": [
      "                                                                                   \r"
     ]
    },
    {
     "name": "stdout",
     "output_type": "stream",
     "text": [
      "[93s] Epoch 19 loss : 0.12930773 acc: 97.76 val: 1.36472607 acc: 54.78%\n"
     ]
    },
    {
     "name": "stderr",
     "output_type": "stream",
     "text": [
      "                                                                                   \r"
     ]
    },
    {
     "name": "stdout",
     "output_type": "stream",
     "text": [
      "[93s] Epoch 20 loss : 0.10823094 acc: 98.56 val: 1.42437147 acc: 56.05%\n"
     ]
    },
    {
     "data": {
      "image/png": "[encoded data removed]",
      "text/plain": [
       "<Figure size 640x480 with 1 Axes>"
      ]
     },
     "metadata": {},
     "output_type": "display_data"
    }
   ],
   "source": [
    "\n",
    "from train import train\n",
    "from easydict import EasyDict\n",
    "\n",
    "dataset = EasyDict(\n",
    "    {\n",
    "        \"train\": train_dataset,\n",
    "        \"val\": test_dataset,\n",
    "        \"test\": test_dataset,\n",
    "    }\n",
    ")\n",
    "data_loader = EasyDict(\n",
    "    {\n",
    "        \"train\": train_loader,\n",
    "        \"val\": test_loader,\n",
    "        \"test\": test_loader,\n",
    "    }\n",
    ")\n",
    "\n",
    "\n",
    "\n",
    "start = train(\n",
    "    model=model,\n",
    "    criterion=criterion,\n",
    "    optimizer=optimizer,\n",
    "    data_loader=data_loader,\n",
    "    dataset=dataset,\n",
    "    device=device,\n",
    "    epochs=40,\n",
    ")"
   ]
  },
  {
   "cell_type": "code",
   "execution_count": 141,
   "metadata": {},
   "outputs": [
    {
     "data": {
      "text/plain": [
       "dict_keys(['epoch', 'state_dict', 'best_net_state', 'optimizer', 'res'])"
      ]
     },
     "execution_count": 141,
     "metadata": {},
     "output_type": "execute_result"
    }
   ],
   "source": [
    "start.keys()"
   ]
  },
  {
   "cell_type": "code",
   "execution_count": 144,
   "metadata": {},
   "outputs": [
    {
     "data": {
      "text/plain": [
       "dict_keys(['loss_train', 'loss_val', 'acc_val', 'acc_train', 'epoch'])"
      ]
     },
     "execution_count": 144,
     "metadata": {},
     "output_type": "execute_result"
    }
   ],
   "source": [
    "res = start['res']\n",
    "res.keys()"
   ]
  },
  {
   "cell_type": "code",
   "execution_count": 145,
   "metadata": {},
   "outputs": [
    {
     "data": {
      "text/plain": [
       "20"
      ]
     },
     "execution_count": 145,
     "metadata": {},
     "output_type": "execute_result"
    }
   ],
   "source": [
    "res['epoch']"
   ]
  },
  {
   "cell_type": "code",
   "execution_count": 148,
   "metadata": {},
   "outputs": [
    {
     "data": {
      "text/plain": [
       "<matplotlib.legend.Legend at 0x7ffaaf9303d0>"
      ]
     },
     "execution_count": 148,
     "metadata": {},
     "output_type": "execute_result"
    },
    {
     "data": {
      "image/png": "[encoded data removed]",
      "text/plain": [
       "<Figure size 640x480 with 1 Axes>"
      ]
     },
     "metadata": {},
     "output_type": "display_data"
    }
   ],
   "source": [
    "from train import draw_acc_curve, draw_loss_curve\n",
    "draw_loss_curve(current_epoch=res['epoch'], net_name=\"LaBSEModel\", optimizer_name=\"optim\", loss_name=\"loss\", res=res)\n",
    "plt.legend()"
   ]
  },
  {
   "cell_type": "code",
   "execution_count": 149,
   "metadata": {},
   "outputs": [
    {
     "data": {
      "text/plain": [
       "<matplotlib.legend.Legend at 0x7ffaaf98a4d0>"
      ]
     },
     "execution_count": 149,
     "metadata": {},
     "output_type": "execute_result"
    },
    {
     "data": {
      "image/png": "[encoded data removed]",
      "text/plain": [
       "<Figure size 640x480 with 1 Axes>"
      ]
     },
     "metadata": {},
     "output_type": "display_data"
    }
   ],
   "source": [
    "draw_acc_curve(current_epoch=res['epoch'], net_name=\"LaBSEModel\", optimizer_name=\"optim\", loss_name=\"loss\", res=res)\n",
    "plt.legend()"
   ]
  },
  {
   "cell_type": "code",
   "execution_count": 80,
   "metadata": {},
   "outputs": [
    {
     "name": "stdout",
     "output_type": "stream",
     "text": [
      "loss 1.43258798122406\n",
      "accuracy 0.559698275862069\n",
      "precision 0.559698275862069\n",
      "recall 0.559698275862069\n",
      "f1 0.559698275862069\n",
      "[[ 8  2  9  0  0]\n",
      " [ 0 23 15  0 10]\n",
      " [ 8  9 40  0  3]\n",
      " [ 0  0  0  0  0]\n",
      " [ 0 12  1  0 17]]\n"
     ]
    }
   ],
   "source": [
    "from tools import evaluate_loader, show_cm, plot_metrics, plot_cm\n",
    "labels = label_encoder.transform(label_encoder.classes_)\n",
    "with torch.no_grad():\n",
    "    metrics = evaluate_loader(test_loader, model, criterion, device)\n",
    "    cm = show_cm(model, test_loader, device, labels=labels)\n",
    "\n",
    "for key, val in metrics.items():\n",
    "    print(key, val)\n",
    "\n",
    "print(cm)"
   ]
  },
  {
   "cell_type": "code",
   "execution_count": 81,
   "metadata": {},
   "outputs": [
    {
     "data": {
      "text/html": [
       "<table>\n",
       "<thead>\n",
       "<tr><th>Metrics  </th><th style=\"text-align: right;\">   Value</th></tr>\n",
       "</thead>\n",
       "<tbody>\n",
       "<tr><td>loss     </td><td style=\"text-align: right;\">1.43259 </td></tr>\n",
       "<tr><td>accuracy </td><td style=\"text-align: right;\">0.559698</td></tr>\n",
       "<tr><td>precision</td><td style=\"text-align: right;\">0.559698</td></tr>\n",
       "<tr><td>recall   </td><td style=\"text-align: right;\">0.559698</td></tr>\n",
       "<tr><td>f1       </td><td style=\"text-align: right;\">0.559698</td></tr>\n",
       "</tbody>\n",
       "</table>"
      ],
      "text/plain": [
       "'<table>\\n<thead>\\n<tr><th>Metrics  </th><th style=\"text-align: right;\">   Value</th></tr>\\n</thead>\\n<tbody>\\n<tr><td>loss     </td><td style=\"text-align: right;\">1.43259 </td></tr>\\n<tr><td>accuracy </td><td style=\"text-align: right;\">0.559698</td></tr>\\n<tr><td>precision</td><td style=\"text-align: right;\">0.559698</td></tr>\\n<tr><td>recall   </td><td style=\"text-align: right;\">0.559698</td></tr>\\n<tr><td>f1       </td><td style=\"text-align: right;\">0.559698</td></tr>\\n</tbody>\\n</table>'"
      ]
     },
     "execution_count": 81,
     "metadata": {},
     "output_type": "execute_result"
    }
   ],
   "source": [
    "plot_metrics(metrics)"
   ]
  },
  {
   "cell_type": "code",
   "execution_count": 82,
   "metadata": {},
   "outputs": [
    {
     "data": {
      "image/png": "[encoded data removed]",
      "text/plain": [
       "<Figure size 640x480 with 2 Axes>"
      ]
     },
     "metadata": {},
     "output_type": "display_data"
    }
   ],
   "source": [
    "plot_cm(cm, label_encoder.classes_)"
   ]
  },
  {
   "cell_type": "code",
   "execution_count": 94,
   "metadata": {},
   "outputs": [
    {
     "data": {
      "text/html": [
       "<div>\n",
       "<style scoped>\n",
       "    .dataframe tbody tr th:only-of-type {\n",
       "        vertical-align: middle;\n",
       "    }\n",
       "\n",
       "    .dataframe tbody tr th {\n",
       "        vertical-align: top;\n",
       "    }\n",
       "\n",
       "    .dataframe thead th {\n",
       "        text-align: right;\n",
       "    }\n",
       "</style>\n",
       "<table border=\"1\" class=\"dataframe\">\n",
       "  <thead>\n",
       "    <tr style=\"text-align: right;\">\n",
       "      <th></th>\n",
       "      <th>text</th>\n",
       "      <th>polarity</th>\n",
       "      <th>polarity_id</th>\n",
       "    </tr>\n",
       "  </thead>\n",
       "  <tbody>\n",
       "    <tr>\n",
       "      <th>0</th>\n",
       "      <td>خواهشا خواهشا خواهشا واسه ارسال شیرینیها یه فک...</td>\n",
       "      <td>happy</td>\n",
       "      <td>0</td>\n",
       "    </tr>\n",
       "    <tr>\n",
       "      <th>1</th>\n",
       "      <td>غذا گرم رسید کیفیت و پخت گوشت عالی بود</td>\n",
       "      <td>happy</td>\n",
       "      <td>0</td>\n",
       "    </tr>\n",
       "    <tr>\n",
       "      <th>2</th>\n",
       "      <td>قیمت سس شکلات روی بسته بندی ۱۵۰۰۰ بود ولی قیمت...</td>\n",
       "      <td>sad</td>\n",
       "      <td>1</td>\n",
       "    </tr>\n",
       "    <tr>\n",
       "      <th>3</th>\n",
       "      <td>عکس توی پیج یه شیرینی شکری روشن رنگ هست که همم...</td>\n",
       "      <td>sad</td>\n",
       "      <td>1</td>\n",
       "    </tr>\n",
       "    <tr>\n",
       "      <th>4</th>\n",
       "      <td>باز هم میگم، پیتزا نباید اینقد چرب باشه</td>\n",
       "      <td>sad</td>\n",
       "      <td>1</td>\n",
       "    </tr>\n",
       "  </tbody>\n",
       "</table>\n",
       "</div>"
      ],
      "text/plain": [
       "                                                text polarity  polarity_id\n",
       "0  خواهشا خواهشا خواهشا واسه ارسال شیرینیها یه فک...    happy            0\n",
       "1             غذا گرم رسید کیفیت و پخت گوشت عالی بود    happy            0\n",
       "2  قیمت سس شکلات روی بسته بندی ۱۵۰۰۰ بود ولی قیمت...      sad            1\n",
       "3  عکس توی پیج یه شیرینی شکری روشن رنگ هست که همم...      sad            1\n",
       "4            باز هم میگم، پیتزا نباید اینقد چرب باشه      sad            1"
      ]
     },
     "execution_count": 94,
     "metadata": {},
     "output_type": "execute_result"
    }
   ],
   "source": [
    "\n",
    "snap_food_df = pd.read_csv(\"data/datasets/snapfood_testset.csv\")\n",
    "snap_food_df.columns = [\"text\", \"polarity\"]\n",
    "snap_food_df.polarity = snap_food_df.polarity.str.lower()\n",
    "\n",
    "snap_label_encoder = LabelEncoder()\n",
    "snap_food_df[\"polarity_id\"] = snap_label_encoder.fit_transform(snap_food_df[\"polarity\"])\n",
    "snap_food_df.head()"
   ]
  },
  {
   "cell_type": "code",
   "execution_count": 130,
   "metadata": {},
   "outputs": [
    {
     "data": {
      "text/plain": [
       "{0: 1, 3: 1, 1: 0, 4: 0, 2: 0}"
      ]
     },
     "execution_count": 130,
     "metadata": {},
     "output_type": "execute_result"
    }
   ],
   "source": [
    "map_sentiment = {\n",
    "    \"bad\": \"sad\",\n",
    "    \"very bad\": \"sad\",\n",
    "    \"good\": \"happy\",\n",
    "    \"very good\": \"happy\",\n",
    "    \"neutral\": \"happy\",\n",
    "}\n",
    "map_id = {}\n",
    "for k, v in map_sentiment.items():\n",
    "    map_id[label_encoder.transform([k])[0]] = snap_label_encoder.transform([v])[0]\n",
    "map_id"
   ]
  },
  {
   "cell_type": "code",
   "execution_count": 131,
   "metadata": {},
   "outputs": [],
   "source": [
    "snap_dataset = Dataset(snap_food_df, tokenizer)\n",
    "snap_dataloader = torch.utils.data.DataLoader(\n",
    "    snap_dataset, \n",
    "    batch_size=batch_size,\n",
    "    shuffle=False,\n",
    "    drop_last=False,\n",
    "    num_workers=num_workers,\n",
    "    pin_memory=pin_memory,\n",
    ")"
   ]
  },
  {
   "cell_type": "code",
   "execution_count": 132,
   "metadata": {},
   "outputs": [],
   "source": [
    "from sklearn.metrics import accuracy_score\n",
    "from sklearn.metrics import precision_score\n",
    "from sklearn.metrics import recall_score\n",
    "from sklearn.metrics import f1_score\n",
    "from sklearn.metrics import confusion_matrix\n",
    "from sklearn.metrics import ConfusionMatrixDisplay\n",
    "\n",
    "\n",
    "def compute_loss(y, predictions, loss):\n",
    "    # loss\n",
    "    # binarize predictions from predictions (outputs = 1 if p>0.5 else 0)\n",
    "    outputs = torch.argmax(predictions, axis=1)\n",
    "    outputs = [map_id[i.item()] for i in outputs]\n",
    "    # metrics with accuracy, precision, recall, f1\n",
    "    accuracy = accuracy_score(y.cpu(), outputs)\n",
    "    precision, recall, f1 = [metric(y.cpu(), outputs, average=\"micro\") for metric in [precision_score, recall_score, f1_score]]\n",
    "    return loss, accuracy, precision, recall, f1\n",
    "    \n",
    "def evaluate_loader(loader, model, criterion, device):\n",
    "    model.eval()\n",
    "    # compute loss and accuracy for that loader\n",
    "    metrics = {\n",
    "        \"loss\": 0,\n",
    "        \"accuracy\": 0,\n",
    "        \"precision\": 0,\n",
    "        \"recall\": 0,\n",
    "        \"f1\": 0,\n",
    "    }\n",
    "    with torch.no_grad():\n",
    "        # loop over examples of loader\n",
    "        for i, data in enumerate(loader):\n",
    "\n",
    "            input_ids = data[\"input_ids\"].to(device)\n",
    "            attention_mask = data[\"attention_mask\"].to(device)\n",
    "            token_type_ids = data[\"token_type_ids\"].to(device)\n",
    "            label_id = data[\"label_id\"].to(device)\n",
    "            logits, probs = model(input_ids, attention_mask, token_type_ids)\n",
    "            loss = criterion(logits, label_id)\n",
    "            loss, accuracy, precision, recall, f1 = compute_loss(label_id, probs, loss)\n",
    "            # sum up metrics in dict\n",
    "            metrics[\"loss\"] += loss.item()\n",
    "            metrics[\"accuracy\"] += accuracy\n",
    "            metrics[\"precision\"] += precision\n",
    "            metrics[\"recall\"] += recall\n",
    "            metrics[\"f1\"] += f1\n",
    "        # normalize all values\n",
    "        for k in metrics.keys():\n",
    "            metrics[k] /= len(loader)\n",
    "        return metrics\n",
    "\n",
    "def show_cm(model, loader, device, labels=None):\n",
    "    y_true, y_pred = [], []\n",
    "    model.eval()\n",
    "    with torch.no_grad():\n",
    "        for i, data in tqdm(enumerate(loader), total=len(loader)):\n",
    "\n",
    "            input_ids = data[\"input_ids\"].to(device)\n",
    "            attention_mask = data[\"attention_mask\"].to(device)\n",
    "            token_type_ids = data[\"token_type_ids\"].to(device)\n",
    "            label_id = data[\"label_id\"]\n",
    "            now_batch_size = label_id.size(0)\n",
    "            logits, probs = model(input_ids, attention_mask, token_type_ids)\n",
    "\n",
    "            outputs = torch.argmax(probs, axis=1)\n",
    "            outputs = [map_id[i.item()] for i in outputs]\n",
    "            y_true.extend(label_id.tolist())\n",
    "            y_pred.extend(outputs)\n",
    "    cm = confusion_matrix(y_true, y_pred, labels=labels)\n",
    "    return cm"
   ]
  },
  {
   "cell_type": "code",
   "execution_count": 135,
   "metadata": {},
   "outputs": [
    {
     "name": "stdout",
     "output_type": "stream",
     "text": [
      "huggingface/tokenizers: The current process just got forked, after parallelism has already been used. Disabling parallelism to avoid deadlocks...\n",
      "To disable this warning, you can either:\n",
      "\t- Avoid using `tokenizers` before the fork if possible\n",
      "\t- Explicitly set the environment variable TOKENIZERS_PARALLELISM=(true | false)\n",
      "huggingface/tokenizers: The current process just got forked, after parallelism has already been used. Disabling parallelism to avoid deadlocks...\n",
      "To disable this warning, you can either:\n",
      "\t- Avoid using `tokenizers` before the fork if possible\n",
      "\t- Explicitly set the environment variable TOKENIZERS_PARALLELISM=(true | false)\n",
      "huggingface/tokenizers: The current process just got forked, after parallelism has already been used. Disabling parallelism to avoid deadlocks...\n",
      "To disable this warning, you can either:\n",
      "\t- Avoid using `tokenizers` before the fork if possible\n",
      "\t- Explicitly set the environment variable TOKENIZERS_PARALLELISM=(true | false)\n",
      "huggingface/tokenizers: The current process just got forked, after parallelism has already been used. Disabling parallelism to avoid deadlocks...\n",
      "To disable this warning, you can either:\n",
      "\t- Avoid using `tokenizers` before the fork if possible\n",
      "\t- Explicitly set the environment variable TOKENIZERS_PARALLELISM=(true | false)\n",
      "huggingface/tokenizers: The current process just got forked, after parallelism has already been used. Disabling parallelism to avoid deadlocks...\n",
      "To disable this warning, you can either:\n",
      "\t- Avoid using `tokenizers` before the fork if possible\n",
      "\t- Explicitly set the environment variable TOKENIZERS_PARALLELISM=(true | false)\n",
      "huggingface/tokenizers: The current process just got forked, after parallelism has already been used. Disabling parallelism to avoid deadlocks...\n",
      "To disable this warning, you can either:\n",
      "\t- Avoid using `tokenizers` before the fork if possible\n",
      "\t- Explicitly set the environment variable TOKENIZERS_PARALLELISM=(true | false)\n",
      "huggingface/tokenizers: The current process just got forked, after parallelism has already been used. Disabling parallelism to avoid deadlocks...\n",
      "To disable this warning, you can either:\n",
      "\t- Avoid using `tokenizers` before the fork if possible\n",
      "\t- Explicitly set the environment variable TOKENIZERS_PARALLELISM=(true | false)\n",
      "huggingface/tokenizers: The current process just got forked, after parallelism has already been used. Disabling parallelism to avoid deadlocks...\n",
      "To disable this warning, you can either:\n",
      "\t- Avoid using `tokenizers` before the fork if possible\n",
      "\t- Explicitly set the environment variable TOKENIZERS_PARALLELISM=(true | false)\n",
      "huggingface/tokenizers: The current process just got forked, after parallelism has already been used. Disabling parallelism to avoid deadlocks...\n",
      "To disable this warning, you can either:\n",
      "\t- Avoid using `tokenizers` before the fork if possible\n",
      "\t- Explicitly set the environment variable TOKENIZERS_PARALLELISM=(true | false)\n",
      "huggingface/tokenizers: The current process just got forked, after parallelism has already been used. Disabling parallelism to avoid deadlocks...\n",
      "To disable this warning, you can either:\n",
      "\t- Avoid using `tokenizers` before the fork if possible\n",
      "\t- Explicitly set the environment variable TOKENIZERS_PARALLELISM=(true | false)\n",
      "\t- Explicitly set the environment variable TOKENIZERS_PARALLELISM=(true | false)\n",
      "huggingface/tokenizers: The current process just got forked, after parallelism has already been used. Disabling parallelism to avoid deadlocks...\n",
      "To disable this warning, you can either:\n",
      "\t- Avoid using `tokenizers` before the fork if possible\n",
      "\t- Explicitly set the environment variable TOKENIZERS_PARALLELISM=(true | false)\n",
      "\t- Explicitly set the environment variable TOKENIZERS_PARALLELISM=(true | false)\n",
      "huggingface/tokenizers: The current process just got forked, after parallelism has already been used. Disabling parallelism to avoid deadlocks...\n",
      "To disable this warning, you can either:\n",
      "\t- Avoid using `tokenizers` before the fork if possible\n",
      "\t- Explicitly set the environment variable TOKENIZERS_PARALLELISM=(true | false)\n",
      "huggingface/tokenizers: The current process just got forked, after parallelism has already been used. Disabling parallelism to avoid deadlocks...\n",
      "To disable this warning, you can either:\n",
      "\t- Avoid using `tokenizers` before the fork if possible\n",
      "\t- Explicitly set the environment variable TOKENIZERS_PARALLELISM=(true | false)\n",
      "huggingface/tokenizers: The current process just got forked, after parallelism has already been used. Disabling parallelism to avoid deadlocks...\n",
      "To disable this warning, you can either:\n",
      "\t- Avoid using `tokenizers` before the fork if possible\n",
      "\t- Explicitly set the environment variable TOKENIZERS_PARALLELISM=(true | false)\n",
      "huggingface/tokenizers: The current process just got forked, after parallelism has already been used. Disabling parallelism to avoid deadlocks...\n",
      "To disable this warning, you can either:\n",
      "\t- Avoid using `tokenizers` before the fork if possible\n",
      "\t- Explicitly set the environment variable TOKENIZERS_PARALLELISM=(true | false)\n",
      "huggingface/tokenizers: The current process just got forked, after parallelism has already been used. Disabling parallelism to avoid deadlocks...\n",
      "To disable this warning, you can either:\n",
      "\t- Avoid using `tokenizers` before the fork if possible\n",
      "\t- Explicitly set the environment variable TOKENIZERS_PARALLELISM=(true | false)\n",
      "huggingface/tokenizers: The current process just got forked, after parallelism has already been used. Disabling parallelism to avoid deadlocks...\n",
      "To disable this warning, you can either:\n",
      "\t- Avoid using `tokenizers` before the fork if possible\n",
      "\t- Explicitly set the environment variable TOKENIZERS_PARALLELISM=(true | false)\n",
      "huggingface/tokenizers: The current process just got forked, after parallelism has already been used. Disabling parallelism to avoid deadlocks...\n",
      "To disable this warning, you can either:\n",
      "\t- Avoid using `tokenizers` before the fork if possible\n",
      "\t- Explicitly set the environment variable TOKENIZERS_PARALLELISM=(true | false)\n",
      "huggingface/tokenizers: The current process just got forked, after parallelism has already been used. Disabling parallelism to avoid deadlocks...\n",
      "To disable this warning, you can either:\n",
      "\t- Avoid using `tokenizers` before the fork if possible\n",
      "\t- Explicitly set the environment variable TOKENIZERS_PARALLELISM=(true | false)\n",
      "huggingface/tokenizers: The current process just got forked, after parallelism has already been used. Disabling parallelism to avoid deadlocks...\n",
      "To disable this warning, you can either:\n",
      "\t- Avoid using `tokenizers` before the fork if possible\n",
      "\t- Explicitly set the environment variable TOKENIZERS_PARALLELISM=(true | false)\n",
      "huggingface/tokenizers: The current process just got forked, after parallelism has already been used. Disabling parallelism to avoid deadlocks...\n",
      "To disable this warning, you can either:\n",
      "\t- Avoid using `tokenizers` before the fork if possible\n",
      "\t- Explicitly set the environment variable TOKENIZERS_PARALLELISM=(true | false)\n"
     ]
    },
    {
     "name": "stderr",
     "output_type": "stream",
     "text": [
      "100%|██████████| 5/5 [00:09<00:00,  2.03s/it]"
     ]
    },
    {
     "name": "stdout",
     "output_type": "stream",
     "text": [
      "\t- Explicitly set the environment variable TOKENIZERS_PARALLELISM=(true | false)\n",
      "\t- Explicitly set the environment variable TOKENIZERS_PARALLELISM=(true | false)\n"
     ]
    },
    {
     "name": "stderr",
     "output_type": "stream",
     "text": [
      "100%|██████████| 5/5 [00:10<00:00,  2.04s/it]"
     ]
    },
    {
     "name": "stdout",
     "output_type": "stream",
     "text": [
      "loss 1.43258798122406\n",
      "accuracy 0.07198275862068966\n",
      "precision 0.07198275862068966\n",
      "recall 0.07198275862068966\n",
      "f1 0.07198275862068966\n",
      "[[11  8]\n",
      " [48  0]]\n"
     ]
    },
    {
     "name": "stderr",
     "output_type": "stream",
     "text": [
      "\n"
     ]
    }
   ],
   "source": [
    "model.eval()\n",
    "labels = snap_label_encoder.transform(snap_label_encoder.classes_)\n",
    "with torch.no_grad():\n",
    "    metrics = evaluate_loader(test_loader, model, criterion, device)\n",
    "    cm = show_cm(model, test_loader, device, labels=labels)\n",
    "\n",
    "for key, val in metrics.items():\n",
    "    print(key, val)\n",
    "\n",
    "print(cm)"
   ]
  },
  {
   "cell_type": "code",
   "execution_count": 136,
   "metadata": {},
   "outputs": [
    {
     "data": {
      "text/html": [
       "<table>\n",
       "<thead>\n",
       "<tr><th>Metrics  </th><th style=\"text-align: right;\">    Value</th></tr>\n",
       "</thead>\n",
       "<tbody>\n",
       "<tr><td>loss     </td><td style=\"text-align: right;\">1.43259  </td></tr>\n",
       "<tr><td>accuracy </td><td style=\"text-align: right;\">0.0719828</td></tr>\n",
       "<tr><td>precision</td><td style=\"text-align: right;\">0.0719828</td></tr>\n",
       "<tr><td>recall   </td><td style=\"text-align: right;\">0.0719828</td></tr>\n",
       "<tr><td>f1       </td><td style=\"text-align: right;\">0.0719828</td></tr>\n",
       "</tbody>\n",
       "</table>"
      ],
      "text/plain": [
       "'<table>\\n<thead>\\n<tr><th>Metrics  </th><th style=\"text-align: right;\">    Value</th></tr>\\n</thead>\\n<tbody>\\n<tr><td>loss     </td><td style=\"text-align: right;\">1.43259  </td></tr>\\n<tr><td>accuracy </td><td style=\"text-align: right;\">0.0719828</td></tr>\\n<tr><td>precision</td><td style=\"text-align: right;\">0.0719828</td></tr>\\n<tr><td>recall   </td><td style=\"text-align: right;\">0.0719828</td></tr>\\n<tr><td>f1       </td><td style=\"text-align: right;\">0.0719828</td></tr>\\n</tbody>\\n</table>'"
      ]
     },
     "execution_count": 136,
     "metadata": {},
     "output_type": "execute_result"
    }
   ],
   "source": [
    "plot_metrics(metrics)"
   ]
  },
  {
   "cell_type": "code",
   "execution_count": 137,
   "metadata": {},
   "outputs": [
    {
     "data": {
      "image/png": "[encoded data removed]",
      "text/plain": [
       "<Figure size 640x480 with 2 Axes>"
      ]
     },
     "metadata": {},
     "output_type": "display_data"
    }
   ],
   "source": [
    "plot_cm(cm, snap_label_encoder.classes_)"
   ]
  },
  {
   "cell_type": "code",
   "execution_count": null,
   "metadata": {},
   "outputs": [],
   "source": [
    "\n",
    "map_sentiment = {\n",
    "    \"bad\": \"sad\",\n",
    "    \"very bad\": \"sad\",\n",
    "    \"good\": \"happy\",\n",
    "    \"very good\": \"happy\",\n",
    "    \"neutral\": \"sad\",\n",
    "}\n",
    "map_id = {}\n",
    "for k, v in map_sentiment.items():\n",
    "    map_id[label_encoder.transform([k])[0]] = snap_label_encoder.transform([v])[0]\n",
    "map_id"
   ]
  },
  {
   "cell_type": "code",
   "execution_count": 138,
   "metadata": {},
   "outputs": [
    {
     "name": "stdout",
     "output_type": "stream",
     "text": [
      "huggingface/tokenizers: The current process just got forked, after parallelism has already been used. Disabling parallelism to avoid deadlocks...\n",
      "To disable this warning, you can either:\n",
      "\t- Avoid using `tokenizers` before the fork if possible\n",
      "\t- Explicitly set the environment variable TOKENIZERS_PARALLELISM=(true | false)\n",
      "huggingface/tokenizers: The current process just got forked, after parallelism has already been used. Disabling parallelism to avoid deadlocks...\n",
      "To disable this warning, you can either:\n",
      "\t- Avoid using `tokenizers` before the fork if possible\n",
      "\t- Explicitly set the environment variable TOKENIZERS_PARALLELISM=(true | false)\n",
      "huggingface/tokenizers: The current process just got forked, after parallelism has already been used. Disabling parallelism to avoid deadlocks...\n",
      "To disable this warning, you can either:\n",
      "\t- Avoid using `tokenizers` before the fork if possible\n",
      "\t- Explicitly set the environment variable TOKENIZERS_PARALLELISM=(true | false)\n",
      "huggingface/tokenizers: The current process just got forked, after parallelism has already been used. Disabling parallelism to avoid deadlocks...\n",
      "To disable this warning, you can either:\n",
      "\t- Avoid using `tokenizers` before the fork if possible\n",
      "\t- Explicitly set the environment variable TOKENIZERS_PARALLELISM=(true | false)\n",
      "huggingface/tokenizers: The current process just got forked, after parallelism has already been used. Disabling parallelism to avoid deadlocks...\n",
      "To disable this warning, you can either:\n",
      "\t- Avoid using `tokenizers` before the fork if possible\n",
      "\t- Explicitly set the environment variable TOKENIZERS_PARALLELISM=(true | false)\n",
      "huggingface/tokenizers: The current process just got forked, after parallelism has already been used. Disabling parallelism to avoid deadlocks...\n",
      "To disable this warning, you can either:\n",
      "\t- Avoid using `tokenizers` before the fork if possible\n",
      "\t- Explicitly set the environment variable TOKENIZERS_PARALLELISM=(true | false)\n",
      "huggingface/tokenizers: The current process just got forked, after parallelism has already been used. Disabling parallelism to avoid deadlocks...\n",
      "To disable this warning, you can either:\n",
      "\t- Avoid using `tokenizers` before the fork if possible\n",
      "\t- Explicitly set the environment variable TOKENIZERS_PARALLELISM=(true | false)\n",
      "huggingface/tokenizers: The current process just got forked, after parallelism has already been used. Disabling parallelism to avoid deadlocks...\n",
      "To disable this warning, you can either:\n",
      "\t- Avoid using `tokenizers` before the fork if possible\n",
      "\t- Explicitly set the environment variable TOKENIZERS_PARALLELISM=(true | false)\n",
      "huggingface/tokenizers: The current process just got forked, after parallelism has already been used. Disabling parallelism to avoid deadlocks...\n",
      "To disable this warning, you can either:\n",
      "\t- Avoid using `tokenizers` before the fork if possible\n",
      "\t- Explicitly set the environment variable TOKENIZERS_PARALLELISM=(true | false)\n",
      "huggingface/tokenizers: The current process just got forked, after parallelism has already been used. Disabling parallelism to avoid deadlocks...\n",
      "To disable this warning, you can either:\n",
      "\t- Avoid using `tokenizers` before the fork if possible\n",
      "\t- Explicitly set the environment variable TOKENIZERS_PARALLELISM=(true | false)\n",
      "\t- Explicitly set the environment variable TOKENIZERS_PARALLELISM=(true | false)\n",
      "huggingface/tokenizers: The current process just got forked, after parallelism has already been used. Disabling parallelism to avoid deadlocks...\n",
      "To disable this warning, you can either:\n",
      "\t- Avoid using `tokenizers` before the fork if possible\n",
      "\t- Explicitly set the environment variable TOKENIZERS_PARALLELISM=(true | false)\n",
      "\t- Explicitly set the environment variable TOKENIZERS_PARALLELISM=(true | false)\n",
      "huggingface/tokenizers: The current process just got forked, after parallelism has already been used. Disabling parallelism to avoid deadlocks...\n",
      "To disable this warning, you can either:\n",
      "\t- Avoid using `tokenizers` before the fork if possible\n",
      "\t- Explicitly set the environment variable TOKENIZERS_PARALLELISM=(true | false)\n",
      "huggingface/tokenizers: The current process just got forked, after parallelism has already been used. Disabling parallelism to avoid deadlocks...\n",
      "To disable this warning, you can either:\n",
      "\t- Avoid using `tokenizers` before the fork if possible\n",
      "\t- Explicitly set the environment variable TOKENIZERS_PARALLELISM=(true | false)\n",
      "huggingface/tokenizers: The current process just got forked, after parallelism has already been used. Disabling parallelism to avoid deadlocks...\n",
      "To disable this warning, you can either:\n",
      "\t- Avoid using `tokenizers` before the fork if possible\n",
      "\t- Explicitly set the environment variable TOKENIZERS_PARALLELISM=(true | false)\n",
      "huggingface/tokenizers: The current process just got forked, after parallelism has already been used. Disabling parallelism to avoid deadlocks...\n",
      "To disable this warning, you can either:\n",
      "\t- Avoid using `tokenizers` before the fork if possible\n",
      "\t- Explicitly set the environment variable TOKENIZERS_PARALLELISM=(true | false)\n",
      "huggingface/tokenizers: The current process just got forked, after parallelism has already been used. Disabling parallelism to avoid deadlocks...\n",
      "To disable this warning, you can either:\n",
      "\t- Avoid using `tokenizers` before the fork if possible\n",
      "\t- Explicitly set the environment variable TOKENIZERS_PARALLELISM=(true | false)\n",
      "huggingface/tokenizers: The current process just got forked, after parallelism has already been used. Disabling parallelism to avoid deadlocks...\n",
      "To disable this warning, you can either:\n",
      "\t- Avoid using `tokenizers` before the fork if possible\n",
      "\t- Explicitly set the environment variable TOKENIZERS_PARALLELISM=(true | false)\n",
      "huggingface/tokenizers: The current process just got forked, after parallelism has already been used. Disabling parallelism to avoid deadlocks...\n",
      "To disable this warning, you can either:\n",
      "\t- Avoid using `tokenizers` before the fork if possible\n",
      "\t- Explicitly set the environment variable TOKENIZERS_PARALLELISM=(true | false)\n",
      "huggingface/tokenizers: The current process just got forked, after parallelism has already been used. Disabling parallelism to avoid deadlocks...\n",
      "To disable this warning, you can either:\n",
      "\t- Avoid using `tokenizers` before the fork if possible\n",
      "\t- Explicitly set the environment variable TOKENIZERS_PARALLELISM=(true | false)\n",
      "huggingface/tokenizers: The current process just got forked, after parallelism has already been used. Disabling parallelism to avoid deadlocks...\n",
      "To disable this warning, you can either:\n",
      "\t- Avoid using `tokenizers` before the fork if possible\n",
      "\t- Explicitly set the environment variable TOKENIZERS_PARALLELISM=(true | false)\n",
      "huggingface/tokenizers: The current process just got forked, after parallelism has already been used. Disabling parallelism to avoid deadlocks...\n",
      "To disable this warning, you can either:\n",
      "\t- Avoid using `tokenizers` before the fork if possible\n",
      "\t- Explicitly set the environment variable TOKENIZERS_PARALLELISM=(true | false)\n"
     ]
    },
    {
     "name": "stderr",
     "output_type": "stream",
     "text": [
      "100%|██████████| 5/5 [00:09<00:00,  1.99s/it]"
     ]
    },
    {
     "name": "stdout",
     "output_type": "stream",
     "text": [
      "\t- Explicitly set the environment variable TOKENIZERS_PARALLELISM=(true | false)\n",
      "huggingface/tokenizers: The current process just got forked, after parallelism has already been used. Disabling parallelism to avoid deadlocks...\n",
      "To disable this warning, you can either:\n",
      "\t- Avoid using `tokenizers` before the fork if possible\n",
      "\t- Explicitly set the environment variable TOKENIZERS_PARALLELISM=(true | false)\n",
      "\t- Explicitly set the environment variable TOKENIZERS_PARALLELISM=(true | false)\n"
     ]
    },
    {
     "name": "stderr",
     "output_type": "stream",
     "text": [
      "100%|██████████| 5/5 [00:09<00:00,  1.95s/it]"
     ]
    },
    {
     "name": "stdout",
     "output_type": "stream",
     "text": [
      "loss 1.43258798122406\n",
      "accuracy 0.07198275862068966\n",
      "precision 0.07198275862068966\n",
      "recall 0.07198275862068966\n",
      "f1 0.07198275862068966\n",
      "[[11  8]\n",
      " [48  0]]\n"
     ]
    },
    {
     "name": "stderr",
     "output_type": "stream",
     "text": [
      "\n"
     ]
    }
   ],
   "source": [
    "model.eval()\n",
    "labels = snap_label_encoder.transform(snap_label_encoder.classes_)\n",
    "with torch.no_grad():\n",
    "    metrics = evaluate_loader(test_loader, model, criterion, device)\n",
    "    cm = show_cm(model, test_loader, device, labels=labels)\n",
    "\n",
    "for key, val in metrics.items():\n",
    "    print(key, val)\n",
    "\n",
    "print(cm)"
   ]
  },
  {
   "cell_type": "code",
   "execution_count": 139,
   "metadata": {},
   "outputs": [
    {
     "data": {
      "text/html": [
       "<table>\n",
       "<thead>\n",
       "<tr><th>Metrics  </th><th style=\"text-align: right;\">    Value</th></tr>\n",
       "</thead>\n",
       "<tbody>\n",
       "<tr><td>loss     </td><td style=\"text-align: right;\">1.43259  </td></tr>\n",
       "<tr><td>accuracy </td><td style=\"text-align: right;\">0.0719828</td></tr>\n",
       "<tr><td>precision</td><td style=\"text-align: right;\">0.0719828</td></tr>\n",
       "<tr><td>recall   </td><td style=\"text-align: right;\">0.0719828</td></tr>\n",
       "<tr><td>f1       </td><td style=\"text-align: right;\">0.0719828</td></tr>\n",
       "</tbody>\n",
       "</table>"
      ],
      "text/plain": [
       "'<table>\\n<thead>\\n<tr><th>Metrics  </th><th style=\"text-align: right;\">    Value</th></tr>\\n</thead>\\n<tbody>\\n<tr><td>loss     </td><td style=\"text-align: right;\">1.43259  </td></tr>\\n<tr><td>accuracy </td><td style=\"text-align: right;\">0.0719828</td></tr>\\n<tr><td>precision</td><td style=\"text-align: right;\">0.0719828</td></tr>\\n<tr><td>recall   </td><td style=\"text-align: right;\">0.0719828</td></tr>\\n<tr><td>f1       </td><td style=\"text-align: right;\">0.0719828</td></tr>\\n</tbody>\\n</table>'"
      ]
     },
     "execution_count": 139,
     "metadata": {},
     "output_type": "execute_result"
    }
   ],
   "source": [
    "plot_metrics(metrics)"
   ]
  },
  {
   "cell_type": "code",
   "execution_count": 140,
   "metadata": {},
   "outputs": [
    {
     "data": {
      "image/png": "[encoded data removed]",
      "text/plain": [
       "<Figure size 640x480 with 2 Axes>"
      ]
     },
     "metadata": {},
     "output_type": "display_data"
    }
   ],
   "source": [
    "plot_cm(cm, snap_label_encoder.classes_)"
   ]
  },
  {
   "cell_type": "code",
   "execution_count": null,
   "metadata": {},
   "outputs": [],
   "source": []
  }
 ],
 "metadata": {
  "kernelspec": {
   "display_name": "uni",
   "language": "python",
   "name": "python3"
  },
  "language_info": {
   "codemirror_mode": {
    "name": "ipython",
    "version": 3
   },
   "file_extension": ".py",
   "mimetype": "text/x-python",
   "name": "python",
   "nbconvert_exporter": "python",
   "pygments_lexer": "ipython3",
   "version": "3.11.2"
  },
  "orig_nbformat": 4
 },
 "nbformat": 4,
 "nbformat_minor": 2
}
